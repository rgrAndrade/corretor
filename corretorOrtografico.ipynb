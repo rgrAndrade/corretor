{
  "nbformat": 4,
  "nbformat_minor": 0,
  "metadata": {
    "colab": {
      "name": "corretorOrtografico.ipynb",
      "provenance": [],
      "authorship_tag": "ABX9TyMa3YdQobGmQf/aNMudd6f5",
      "include_colab_link": true
    },
    "kernelspec": {
      "name": "python3",
      "display_name": "Python 3"
    },
    "language_info": {
      "name": "python"
    }
  },
  "cells": [
    {
      "cell_type": "markdown",
      "metadata": {
        "id": "view-in-github",
        "colab_type": "text"
      },
      "source": [
        "<a href=\"https://colab.research.google.com/github/rgrAndrade/corretor/blob/main/corretorOrtografico.ipynb\" target=\"_parent\"><img src=\"https://colab.research.google.com/assets/colab-badge.svg\" alt=\"Open In Colab\"/></a>"
      ]
    },
    {
      "cell_type": "code",
      "execution_count": 13,
      "metadata": {
        "colab": {
          "base_uri": "https://localhost:8080/"
        },
        "id": "eLA-jTvC7wPW",
        "outputId": "09d9fb06-bd42-4171-a3a4-118503e73320"
      },
      "outputs": [
        {
          "output_type": "stream",
          "name": "stdout",
          "text": [
            "\n",
            "\n",
            "\n",
            "imagem \n",
            "\n",
            "Temos a seguinte classe que representa um usuário no nosso sistema:\n",
            "\n",
            "java\n",
            "\n",
            "Para salvar um novo usuário, várias validações são feitas, como por exemplo: Ver se o nome só contém letras, [**o CPF só números**] e ver se o usuário possui no mínimo 18 anos. Veja o método que faz essa validação:\n",
            "\n",
            "java \n",
            "\n",
            "Suponha agora que eu tenha outra classe, a classe `Produto`, que contém um atributo nome e eu quero fazer a mesma validação que fiz para o nome do usuário: Ver se só contém letras. E aí? Vou\n"
          ]
        }
      ],
      "source": [
        "with open(\"artigos.txt\", \"r\") as f:\n",
        "  artigos = f.read()\n",
        "\n",
        "print(artigos[:500])  "
      ]
    },
    {
      "cell_type": "code",
      "source": [
        "import nltk\n",
        "nltk.download('punkt')\n",
        "palavras_separadas = nltk.tokenize.word_tokenize(texto_exemplo)\n",
        "print(palavras_separadas) "
      ],
      "metadata": {
        "colab": {
          "base_uri": "https://localhost:8080/"
        },
        "id": "po9OXOtVM5_a",
        "outputId": "d97b42e3-beb8-4f18-fd47-96075be73fca"
      },
      "execution_count": 16,
      "outputs": [
        {
          "output_type": "stream",
          "name": "stdout",
          "text": [
            "['Olá', ',', 'tudo', 'bem', '?']\n"
          ]
        },
        {
          "output_type": "stream",
          "name": "stderr",
          "text": [
            "[nltk_data] Downloading package punkt to /root/nltk_data...\n",
            "[nltk_data]   Package punkt is already up-to-date!\n"
          ]
        }
      ]
    },
    {
      "cell_type": "code",
      "source": [
        " def separa_palavras(lista_tokens):\n",
        "    lista_palavras = []\n",
        "    for token in lista_tokens:\n",
        "        if token.isalpha():\n",
        "            lista_palavras.append(token)\n",
        "    return lista_palavras\n",
        "\n",
        "separa_palavras(palavras_separadas)"
      ],
      "metadata": {
        "colab": {
          "base_uri": "https://localhost:8080/"
        },
        "id": "KEQNT3uPLFRa",
        "outputId": "1b77fca5-d316-4659-f524-530307eafce9"
      },
      "execution_count": 20,
      "outputs": [
        {
          "output_type": "execute_result",
          "data": {
            "text/plain": [
              "['Olá', 'tudo', 'bem']"
            ]
          },
          "metadata": {},
          "execution_count": 20
        }
      ]
    },
    {
      "cell_type": "code",
      "source": [
        "lista_tokens = nltk.tokenize.word_tokenize(artigos)\n",
        "lista_palavras = separa_palavras(lista_tokens)\n",
        "print(f\"O número de palavras é {len(lista_palavras)}\")"
      ],
      "metadata": {
        "colab": {
          "base_uri": "https://localhost:8080/"
        },
        "id": "xHKePJO6PrJH",
        "outputId": "8846354d-d8bf-4cf7-b925-bd52d15e65be"
      },
      "execution_count": 21,
      "outputs": [
        {
          "output_type": "stream",
          "name": "stdout",
          "text": [
            "O número de palavras é 403031\n"
          ]
        }
      ]
    },
    {
      "cell_type": "code",
      "source": [
        ""
      ],
      "metadata": {
        "id": "EMIHCCzDRtHi"
      },
      "execution_count": null,
      "outputs": []
    }
  ]
}